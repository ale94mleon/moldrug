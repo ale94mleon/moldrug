{
 "cells": [
  {
   "cell_type": "code",
   "execution_count": 1,
   "metadata": {},
   "outputs": [
    {
     "name": "stdout",
     "output_type": "stream",
     "text": [
      "Original shape of X: (837, 2248)\n",
      "New shape of X: (837, 2248)\n",
      "Pearson Correlation: 0.591\n",
      "Original shape of X: (1614, 2248)\n",
      "New shape of X: (1614, 2248)\n",
      "Pearson Correlation: 0.754\n",
      "Original shape of X: (6380, 2248)\n",
      "New shape of X: (6371, 2248)\n",
      "Pearson Correlation: 0.839\n"
     ]
    }
   ],
   "source": [
    "! python train_models.py"
   ]
  },
  {
   "cell_type": "code",
   "execution_count": 1,
   "metadata": {},
   "outputs": [
    {
     "name": "stdout",
     "output_type": "stream",
     "text": [
      "cost: 1.0 vina_score: -5.019 sa_score: 1.5359575087690605 qed: 0.7097425790327138 egfr: 4.617215566582844 clearance: 73.5381 hppb: 1.4809365417329543 clearance_copy: 73.5381 hppb_copy: 1.4809365417329543\n"
     ]
    }
   ],
   "source": [
    "from moldrug import utils\n",
    "from fitness_plus_models import Cost\n",
    "from rdkit import Chem\n",
    "import tempfile, os\n",
    "from moldrug.data import get_data\n",
    "tmp_path = tempfile.TemporaryDirectory()\n",
    "\n",
    "TEST_DATA = get_data('x0161')\n",
    "\n",
    "ligand_mol = Chem.MolFromSmiles(TEST_DATA['smiles'])\n",
    "I = utils.Individual(ligand_mol)\n",
    "\n",
    "# Using the default desirability\n",
    "NewI = Cost(\n",
    "    Individual=I,\n",
    "    wd=tmp_path.name,\n",
    "    receptor_pdbqt_path=TEST_DATA['protein']['pdbqt'],\n",
    "    boxcenter = TEST_DATA['box']['boxcenter'],\n",
    "    boxsize=TEST_DATA['box']['boxsize'],\n",
    "    exhaustiveness=4,\n",
    "    ncores=4,\n",
    "    models={\n",
    "        'egfr': 'egfr.jlib',\n",
    "        'hppb':  'hppb.jlib',\n",
    "        'hppb_copy':  'hppb.jlib',\n",
    "        'clearance': 'clearance.jlib',\n",
    "        'clearance_copy': 'clearance.jlib',\n",
    "\n",
    "    }, \n",
    "    desirability={\n",
    "        'egfr': {\n",
    "            'w': 1,\n",
    "            'LargerTheBest': {\n",
    "                'LowerLimit': 4,\n",
    "                'Target':10,\n",
    "                'r': 1\n",
    "            }\n",
    "        },\n",
    "        'hppb': {\n",
    "            'w': 1,\n",
    "            'LargerTheBest': {\n",
    "                'LowerLimit': 25,\n",
    "                'Target':75,\n",
    "                'r': 1\n",
    "            }\n",
    "        },\n",
    "        'hppb_copy': {\n",
    "            'w': 1,\n",
    "            'LargerTheBest': {\n",
    "                'LowerLimit': 25,\n",
    "                'Target':75,\n",
    "                'r': 1\n",
    "            }\n",
    "        },\n",
    "        'clearance': {\n",
    "            'w': 1,\n",
    "            'SmallerTheBest': {\n",
    "                'Target': 20,\n",
    "                'UpperLimit': 125,\n",
    "                'r': 1\n",
    "            }\n",
    "        },\n",
    "        'clearance_copy': {\n",
    "            'w': 1,\n",
    "            'SmallerTheBest': {\n",
    "                'Target': 20,\n",
    "                'UpperLimit': 125,\n",
    "                'r': 1\n",
    "            }\n",
    "        },\n",
    "    }\n",
    "    \n",
    "    )\n",
    "print(\n",
    "    f\"cost: {NewI.cost}\",\n",
    "    f\"vina_score: {NewI.vina_score}\",\n",
    "    f\"sa_score: {NewI.sa_score}\",\n",
    "    f\"qed: {NewI.qed}\",\n",
    "    f\"egfr: {NewI.egfr}\",\n",
    "    f\"clearance: {NewI.clearance}\",\n",
    "    f\"hppb: {NewI.hppb}\",\n",
    "    f\"clearance_copy: {NewI.clearance_copy}\",\n",
    "    f\"hppb_copy: {NewI.hppb_copy}\",)\n"
   ]
  }
 ],
 "metadata": {
  "kernelspec": {
   "display_name": "moldrug",
   "language": "python",
   "name": "python3"
  },
  "language_info": {
   "codemirror_mode": {
    "name": "ipython",
    "version": 3
   },
   "file_extension": ".py",
   "mimetype": "text/x-python",
   "name": "python",
   "nbconvert_exporter": "python",
   "pygments_lexer": "ipython3",
   "version": "3.10.18"
  },
  "orig_nbformat": 4
 },
 "nbformat": 4,
 "nbformat_minor": 2
}
